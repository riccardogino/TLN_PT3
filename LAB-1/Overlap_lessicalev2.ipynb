{
 "cells": [
  {
   "cell_type": "markdown",
   "metadata": {},
   "source": [
    "## Consegna\n",
    "Misurazione dell’overlap lessicale tra una serie di definizioni per concetti generici/specifici e concreti/astratti. Partendo dai dati sulle definizioni (presente nella cartella \"dati\" su Moodle), si richiede di calcolare la similarità 2-a-2 tra le definizioni (ad es. usando la cardinalità dell'intersezione dei lemmi normalizzata sulla lunghezza minima delle definizioni), aggregando (ed effettuando la media degli score di similarità) sulle due dimensioni (concretezza / specificità). \n",
    "\n"
   ]
  },
  {
   "cell_type": "code",
   "execution_count": 19,
   "outputs": [],
   "source": [
    "import pandas as pd\n",
    "from itertools import combinations\n",
    "from utils import utils as u\n"
   ],
   "metadata": {
    "collapsed": false,
    "ExecuteTime": {
     "end_time": "2023-11-08T15:38:14.632228Z",
     "start_time": "2023-11-08T15:38:14.529871Z"
    }
   }
  },
  {
   "cell_type": "markdown",
   "source": [
    "## Creazione dizionario e Definizione Struttura dati\n",
    "La struttura dati utilizzata avrà la seguente forma: \n",
    "\n",
    "  \"name\": { [\"def_1\", \"def_2\", \"...\", \"def_n\"] }\n",
    "    "
   ],
   "metadata": {
    "collapsed": false
   }
  },
  {
   "cell_type": "code",
   "execution_count": 21,
   "outputs": [],
   "source": [
    "file_path = '../datasets/TLN-definitions-23.tsv'\n",
    "df = pd.read_csv(file_path, sep='\\t')\n",
    "\n",
    "data = {}\n",
    "definitions = []\n",
    "for col in df.columns:\n",
    "    definitions = []\n",
    "    if col != '1':\n",
    "        data[col] = {} ## data[ladybug]\n",
    "        for riga in df[col]:\n",
    "            if col != '1':\n",
    "                definitions.append(riga)\n",
    "        data[col] = definitions"
   ],
   "metadata": {
    "collapsed": false,
    "ExecuteTime": {
     "end_time": "2023-11-08T15:41:00.729227Z",
     "start_time": "2023-11-08T15:40:59.810715Z"
    }
   }
  },
  {
   "cell_type": "markdown",
   "source": [
    "### Calcolo Similarità\n",
    "Abbiamo calcolato la similarità tra x definizioni utilizzando la cardinalità dell'intersezione tra le definizioni tokenizzate normalizzate per la minima tra le due:\n",
    "$$\n",
    "similarity = \\frac{|def_1\\cap def_2|}{|def_1|} \\lor \\frac{|def_1\\cap def_2|}{|def_2|}\n",
    "$$"
   ],
   "metadata": {
    "collapsed": false
   }
  },
  {
   "cell_type": "code",
   "execution_count": 22,
   "outputs": [],
   "source": [
    "def compute_similarity(definition_1_tokens, definition_2_tokens):\n",
    "\n",
    "    min_len = 0\n",
    "\n",
    "    if len(definition_1_tokens) > len(definition_2_tokens):\n",
    "        min_len = len(definition_2_tokens)\n",
    "    else:\n",
    "        min_len = len(definition_1_tokens)\n",
    "\n",
    "    return (len(set(definition_1_tokens).intersection(set(definition_2_tokens))) / min_len)"
   ],
   "metadata": {
    "collapsed": false,
    "ExecuteTime": {
     "end_time": "2023-11-08T15:41:03.934390Z",
     "start_time": "2023-11-08T15:41:03.899950Z"
    }
   }
  },
  {
   "cell_type": "markdown",
   "source": [
    "## Main e stampa dei risultati"
   ],
   "metadata": {
    "collapsed": false
   }
  },
  {
   "cell_type": "code",
   "execution_count": 23,
   "outputs": [
    {
     "name": "stdout",
     "output_type": "stream",
     "text": [
      "---------------------------\n",
      "Concreto / Generico\n",
      "0.2115583713859579   door\n",
      "---------------------------\n",
      "Concreto / Specifico\n",
      "0.3665658256175503   ladybug\n",
      "---------------------------\n",
      "Astratto / Generico\n",
      "0.3026011089804191   pain\n",
      "---------------------------\n",
      "Astratto / Specifico\n",
      "0.24439159818470207   blurriness\n",
      "---------------------------\n"
     ]
    }
   ],
   "source": [
    "lista_def = []\n",
    "result = {}\n",
    "result_tmp = []\n",
    "for col in data:\n",
    "   defs = data[col]\n",
    "   #print(data[col])\n",
    "   for d1, d2 in combinations(defs, 2):\n",
    "       d1 = u.noise_reduction_en(d1)\n",
    "       d1 = u.remove_punctuation(d1)\n",
    "       d1 = u.remove_stop_words(d1)\n",
    "       d2 = u.noise_reduction_en(d2)\n",
    "       d2 = u.remove_punctuation(d2)\n",
    "       d2 = u.remove_stop_words(d2)\n",
    "       \n",
    "       score = compute_similarity(d1,d2)\n",
    "       result_tmp.append(score)\n",
    "       \n",
    "   average_result = sum(result_tmp) / len(result_tmp)\n",
    "   result[col] = average_result\n",
    "       \n",
    "print(\"---------------------------\")\n",
    "label1 = [\"concreto\", \"astratto\"]\n",
    "label2 = [\"specifico\", \"generale\"]  \n",
    "for col in result:\n",
    "    if col == \"door\":\n",
    "        print(\"Concreto / Generico\" )\n",
    "        print(result[col], \" \", col)\n",
    "        print(\"---------------------------\")\n",
    "    if col == \"ladybug\":\n",
    "        print(\"Concreto / Specifico\" )\n",
    "        print(result[col], \" \", col)\n",
    "        print(\"---------------------------\")\n",
    "    if col == \"pain\":\n",
    "        print(\"Astratto / Generico\" )\n",
    "        print(result[col], \" \", col)\n",
    "        print(\"---------------------------\")\n",
    "    if col == \"blurriness\":\n",
    "        print(\"Astratto / Specifico\" )\n",
    "        print(result[col], \" \", col)\n",
    "        print(\"---------------------------\")\n",
    "\n",
    "    \n",
    "\n"
   ],
   "metadata": {
    "collapsed": false,
    "ExecuteTime": {
     "end_time": "2023-11-08T15:41:09.102156Z",
     "start_time": "2023-11-08T15:41:05.708607Z"
    }
   }
  }
 ],
 "metadata": {
  "kernelspec": {
   "display_name": "Python 3",
   "language": "python",
   "name": "python3"
  },
  "language_info": {
   "codemirror_mode": {
    "name": "ipython",
    "version": 3
   },
   "file_extension": ".py",
   "mimetype": "text/x-python",
   "name": "python",
   "nbconvert_exporter": "python",
   "pygments_lexer": "ipython3",
   "version": "3.10.8"
  },
  "orig_nbformat": 4
 },
 "nbformat": 4,
 "nbformat_minor": 2
}
