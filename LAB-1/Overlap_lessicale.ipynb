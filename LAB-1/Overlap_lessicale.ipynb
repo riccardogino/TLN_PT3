{
 "cells": [
  {
   "cell_type": "markdown",
   "metadata": {},
   "source": [
    "## Consegna\n",
    "Misurazione dell’overlap lessicale tra una serie di definizioni per concetti generici/specifici e concreti/astratti. Partendo dai dati sulle definizioni (presente nella cartella \"dati\" su Moodle), si richiede di calcolare la similarità 2-a-2 tra le definizioni (ad es. usando la cardinalità dell'intersezione dei lemmi normalizzata sulla lunghezza minima delle definizioni), aggregando (ed effettuando la media degli score di similarità) sulle due dimensioni (concretezza / specificità). \n",
    "\n"
   ]
  },
  {
   "cell_type": "markdown",
   "metadata": {},
   "source": [
    "### Import\n"
   ]
  },
  {
   "cell_type": "code",
   "execution_count": 14,
   "metadata": {},
   "outputs": [],
   "source": [
    "import polars as pl\n",
    "import json\n",
    "\n",
    "import sys\n",
    "sys.path.append('..')\n",
    "from utils import utils as u"
   ]
  },
  {
   "cell_type": "markdown",
   "metadata": {},
   "source": [
    "### Lettura File\n"
   ]
  },
  {
   "cell_type": "code",
   "execution_count": 15,
   "metadata": {},
   "outputs": [],
   "source": [
    "# read csv with polars module\n",
    "df = json.loads(pl.read_csv(\"../datasets/TLN-definitions-23.tsv\", separator='\\t').write_json())\n",
    "\n",
    "data = {}"
   ]
  },
  {
   "cell_type": "markdown",
   "metadata": {},
   "source": [
    "### Definizione Struttura dati\n",
    "La struttura dati utilizzata avrà la seguente forma: \n",
    "```json\n",
    "{\n",
    "  \"name\": {\n",
    "    \"1\": [\"def_1\", \"def_2\", \"...\", \"def_n\"],\n",
    "    \"2\": [\"def_1\", \"def_2\", \"...\", \"def_n\"],\n",
    "    \"m\": [\"def_1\", \"def_2\", \"...\", \"def_n\"]\n",
    "  }\n",
    "}\n",
    "```"
   ]
  },
  {
   "cell_type": "code",
   "execution_count": 16,
   "metadata": {},
   "outputs": [],
   "source": [
    "for col in df['columns']:\n",
    "    if col['name'] != '1':\n",
    "        data[col['name']] = {}\n",
    "        count = 1\n",
    "        for v in col['values']:\n",
    "            data[col['name']][count] = u.noise_reduction_en(v)\n",
    "            count += 1\n"
   ]
  },
  {
   "cell_type": "markdown",
   "metadata": {},
   "source": [
    "### Calcolo Similarità\n",
    "Abbiamo calcolato la similarità tra due definizioni utilizzando la cardinalità dell'intersezione tra le definizioni tokenizzate normalizzate per la minima tra le due:\n",
    "$$\n",
    "similarity = \\frac{|def_1\\cap def_2|}{|def_1|} \\lor \\frac{|def_1\\cap def_2|}{|def_2|}\n",
    "$$"
   ]
  },
  {
   "cell_type": "code",
   "execution_count": 17,
   "metadata": {},
   "outputs": [],
   "source": [
    "def compute_similarity(definition_1_tokens, definition_2_tokens):\n",
    "\n",
    "    min_len = 0\n",
    "\n",
    "    if len(definition_1_tokens) > len(definition_2_tokens):\n",
    "        min_len = len(definition_2_tokens)\n",
    "    else:\n",
    "        min_len = len(definition_1_tokens)\n",
    "\n",
    "    return (len(set(definition_1_tokens).intersection(set(definition_2_tokens))) / min_len)\n"
   ]
  },
  {
   "cell_type": "markdown",
   "metadata": {},
   "source": [
    "### Main"
   ]
  },
  {
   "cell_type": "code",
   "execution_count": 18,
   "metadata": {},
   "outputs": [],
   "source": [
    "results = {}\n",
    "final = {}\n",
    "for word in data:\n",
    "    results[word] = {}\n",
    "    for id in data[word]:\n",
    "        for id_2 in data[word]:\n",
    "            if id != id_2 and ((id, id_2), (id_2, id)) not in results[word]:\n",
    "                results[word][((id, id_2), (id_2, id))] = compute_similarity(\n",
    "                    data[word][id], data[word][id_2])\n",
    "\n",
    "    final[word] = round((sum(results[word].values()) / \\\n",
    "        len(results[word])if len(results[word]) > 0 else 0), 2)\n"
   ]
  },
  {
   "cell_type": "markdown",
   "metadata": {},
   "source": [
    "### Stampa Risultati"
   ]
  },
  {
   "cell_type": "code",
   "execution_count": 19,
   "metadata": {},
   "outputs": [
    {
     "name": "stdout",
     "output_type": "stream",
     "text": [
      "shape: (2, 3)\n",
      "┌───────────┬──────────────────┬───────────────┐\n",
      "│           ┆ Astratto         ┆ Concreto      │\n",
      "│ ---       ┆ ---              ┆ ---           │\n",
      "│ str       ┆ str              ┆ str           │\n",
      "╞═══════════╪══════════════════╪═══════════════╡\n",
      "│ Generico  ┆ pain: 0.17       ┆ door: 0.21    │\n",
      "│ Specifico ┆ blurriness: 0.07 ┆ ladybug: 0.52 │\n",
      "└───────────┴──────────────────┴───────────────┘\n"
     ]
    }
   ],
   "source": [
    "\n",
    "\n",
    "data = {\n",
    "    \"\": [\"Generico\", \"Specifico\"],\n",
    "    \"Astratto\": [\"pain: \"+str(final['pain']), \"blurriness: \"+str(final['blurriness'])],\n",
    "    \"Concreto\": [\"door: \"+str(final['door']), \"ladybug: \"+str(final['ladybug'])]\n",
    "}\n",
    "\n",
    "table = pl.DataFrame(data)\n",
    "\n",
    "print(table)\n"
   ]
  }
 ],
 "metadata": {
  "kernelspec": {
   "display_name": "Python 3",
   "language": "python",
   "name": "python3"
  },
  "language_info": {
   "codemirror_mode": {
    "name": "ipython",
    "version": 3
   },
   "file_extension": ".py",
   "mimetype": "text/x-python",
   "name": "python",
   "nbconvert_exporter": "python",
   "pygments_lexer": "ipython3",
   "version": "3.12.1"
  },
  "orig_nbformat": 4
 },
 "nbformat": 4,
 "nbformat_minor": 2
}
