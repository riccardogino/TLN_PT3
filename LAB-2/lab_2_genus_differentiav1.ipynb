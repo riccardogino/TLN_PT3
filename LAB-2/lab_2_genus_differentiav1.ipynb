{
 "cells": [
  {
   "cell_type": "markdown",
   "metadata": {},
   "source": [
    "### Imports\n"
   ]
  },
  {
   "cell_type": "code",
   "execution_count": 13,
   "metadata": {},
   "outputs": [
    {
     "name": "stderr",
     "output_type": "stream",
     "text": [
      "[nltk_data] Downloading package wordnet to\n",
      "[nltk_data]     C:\\Users\\r.borra\\AppData\\Roaming\\nltk_data...\n",
      "[nltk_data]   Package wordnet is already up-to-date!\n"
     ]
    }
   ],
   "source": [
    "import nltk\n",
    "from nltk.corpus import wordnet as wn\n",
    "import json\n",
    "import polars as pl\n",
    "\n",
    "from collections import Counter\n",
    "\n",
    "# Download WordNet data\n",
    "nltk.download('wordnet')\n",
    "\n",
    "import sys\n",
    "sys.path.append('..')\n",
    "from utils import utils as u"
   ]
  },
  {
   "cell_type": "markdown",
   "metadata": {},
   "source": [
    "### Funzione per ricavare il Genus di una frase"
   ]
  },
  {
   "cell_type": "code",
   "execution_count": 14,
   "metadata": {},
   "outputs": [],
   "source": [
    "def get_genus(sentence):\n",
    "    genus = []\n",
    "\n",
    "    comma_split = sentence.split(',')\n",
    "\n",
    "    splitted_sent = []\n",
    "\n",
    "    for cs in comma_split:\n",
    "        if cs.split('.') != '':\n",
    "            splitted_sent += cs.split('.')\n",
    "\n",
    "    if '' in splitted_sent:\n",
    "        splitted_sent.remove('')\n",
    "\n",
    "    # Pattern di identificazione del genus\n",
    "    targets = {\n",
    "        1: [[\"it\"], [\"is\", \"'s\"], [\"a\", \"an\", \"the\", \"for\"]],\n",
    "        2: [[\"that\", \"of\", \"to\"]],\n",
    "        3: [[\"a\", \"an\", \"for\", \"to\"]]\n",
    "    }\n",
    "\n",
    "    for sentence in splitted_sent:\n",
    "        tokenized_def = u.get_lemmatized_tokens_list_pos(u.tokenizer(sentence))\n",
    "        # print(tokenized_def)\n",
    "\n",
    "        for i in range(0, len(tokenized_def)):\n",
    "            if i > 0 and tokenized_def[i][0].lower() in targets[2][0]:\n",
    "                if tokenized_def[i-1][0] not in genus and tokenized_def[i-1][1] == 'n':\n",
    "                    genus.append(tokenized_def[i-1][0])\n",
    "\n",
    "            if (i < len(tokenized_def)-1):\n",
    "                if tokenized_def[i][1] == 'a' and tokenized_def[i+1][1] == 'n' and tokenized_def[i+1][0] not in genus:\n",
    "                    genus.append(tokenized_def[i+1][0])\n",
    "\n",
    "            if i < len(tokenized_def)-2 and tokenized_def[i][0].lower() in targets[3][0]:\n",
    "                if tokenized_def[i+1][0] not in genus and tokenized_def[i+1][1] == 'n':\n",
    "                    genus.append(tokenized_def[i+1][0])\n",
    "\n",
    "                elif tokenized_def[i+1][1] == 'a' and tokenized_def[i+2][1] == 'n':\n",
    "                    genus.append(tokenized_def[i+2][0])\n",
    "\n",
    "            if (i < len(tokenized_def)-3):\n",
    "                if tokenized_def[i][0].lower() in targets[1][0] and (tokenized_def[i+1][0] in targets[1][1]) and (tokenized_def[i+2][0] in targets[1][2]):\n",
    "                    if tokenized_def[i+3][0] not in genus:\n",
    "                        genus.append(tokenized_def[i+3][0])\n",
    "    return genus\n"
   ]
  },
  {
   "cell_type": "markdown",
   "metadata": {},
   "source": [
    "### Creo la struttura dati\n",
    "\n",
    "La struttura dati utilizzata avrà la seguente forma: \n",
    "$$data[word] = [definition_i, definition_{i+1}, ..., definition_n]$$"
   ]
  },
  {
   "cell_type": "code",
   "execution_count": 15,
   "metadata": {},
   "outputs": [],
   "source": [
    "df = json.loads(pl.read_csv(\n",
    "    \"../datasets/TLN-definitions-23.tsv\", separator='\\t').write_json())\n",
    "\n",
    "data = {}\n",
    "\n",
    "for col in df['columns']:\n",
    "    if col['name'] != '1':\n",
    "        data[col['name']] = []\n",
    "        for v in col['values']:\n",
    "            data[col['name']].append(v)\n",
    "            "
   ]
  },
  {
   "cell_type": "markdown",
   "metadata": {},
   "source": [
    "### Per ogni definizione, trovo il genus e poi prendo i 2 più frequenti"
   ]
  },
  {
   "cell_type": "code",
   "execution_count": 16,
   "metadata": {},
   "outputs": [],
   "source": [
    "def get_more_frequent_genus(sentences):\n",
    "    genus_freq_dict = {}\n",
    "\n",
    "    for sent in sentences:\n",
    "        genus_list = get_genus(sent)\n",
    "        for genus in genus_list:\n",
    "            if genus in genus_freq_dict:\n",
    "                genus_freq_dict[genus] += 1\n",
    "            else:\n",
    "                genus_freq_dict[genus] = 1\n",
    "    genus_freq_dict = sorted(genus_freq_dict.items(), key=lambda x: x[1], reverse=True)\n",
    "\n",
    "    return genus_freq_dict[0], genus_freq_dict[1]\n",
    "        "
   ]
  },
  {
   "cell_type": "markdown",
   "metadata": {},
   "source": [
    "### Tra i synsets dei genus più frequenti, restituisco il più lontano dalla radice (che dovrebbe essere il più specifico)"
   ]
  },
  {
   "cell_type": "code",
   "execution_count": 17,
   "metadata": {},
   "outputs": [],
   "source": [
    "def get_farther_from_root_genus(synset_g1, synset_g2):\n",
    "    root  = wn.synset('entity.n.01')\n",
    "    if synset_g1[0].shortest_path_distance(root) > synset_g2[0].shortest_path_distance(root):\n",
    "        return synset_g1\n",
    "    else:\n",
    "        return synset_g2"
   ]
  },
  {
   "cell_type": "markdown",
   "metadata": {},
   "source": [
    "### Per ogni senso nel synset del genus, restutisco tutti gli iponimi fino ad arrivare alle foglie"
   ]
  },
  {
   "cell_type": "code",
   "execution_count": 18,
   "metadata": {},
   "outputs": [],
   "source": [
    "def get_all_hyponyms(genus_synset):\n",
    "    stak = []\n",
    "    hy = []\n",
    "\n",
    "    for g in genus_synset:\n",
    "        if g.name().split('.')[1] == 'n':\n",
    "            stak.append(g)\n",
    "\n",
    "    while len(stak) != 0:\n",
    "        hypo = stak.pop()\n",
    "\n",
    "        new_hyponims = hypo.hyponyms()\n",
    "\n",
    "        for h in new_hyponims:\n",
    "            if h not in stak and h.name().split('.')[1] == 'n':\n",
    "                stak.append(h)\n",
    "\n",
    "\n",
    "        hy.append(hypo)\n",
    "        # print(hy)\n",
    "\n",
    "    \n",
    "    return hy"
   ]
  },
  {
   "cell_type": "markdown",
   "metadata": {},
   "source": [
    "### Funzione per il calcolo dell'overlap tra due definizioni (quella dell'esercitazione 1)"
   ]
  },
  {
   "cell_type": "code",
   "execution_count": 19,
   "metadata": {},
   "outputs": [],
   "source": [
    "def compute_similarity(def1, def2):\n",
    "\n",
    "    definition_1_tokens = u.noise_reduction_en(def1)\n",
    "    definition_2_tokens = u.noise_reduction_en(def2)\n",
    "\n",
    "    min_len = 0\n",
    "\n",
    "    if len(definition_1_tokens) > len(definition_2_tokens):\n",
    "        min_len = len(definition_2_tokens)\n",
    "    else:\n",
    "        min_len = len(definition_1_tokens)\n",
    "\n",
    "    return (len(set(definition_1_tokens).intersection(set(definition_2_tokens))) / min_len)"
   ]
  },
  {
   "cell_type": "markdown",
   "metadata": {},
   "source": [
    "### Percorro ogni ramo originato dal nodo del genus fino ad arrivare alle foglie, e per ogni nodo calcolo l'overlap lessicale tra la definizione del nodo e tutte le quelle a mia disposizione, memorizzando quelle con overlap maggiore"
   ]
  },
  {
   "cell_type": "code",
   "execution_count": 20,
   "metadata": {},
   "outputs": [
    {
     "name": "stdout",
     "output_type": "stream",
     "text": [
      "[Synset('entree.n.02'), Synset('access.n.02'), Synset('access.n.03'), Synset('access.n.04'), Synset('access.n.05'), Synset('access.n.06'), Synset('access.v.01'), Synset('access.v.02')]\n",
      "[Synset('insect.n.01'), Synset('worm.n.02')]\n",
      "[Synset('sensation.n.01'), Synset('ace.n.03'), Synset('sensation.n.03'), Synset('sensation.n.04'), Synset('sense.n.03')]\n",
      "[Synset('image.n.01'), Synset('persona.n.02'), Synset('picture.n.01'), Synset('prototype.n.01'), Synset('trope.n.01'), Synset('double.n.03'), Synset('image.n.07'), Synset('image.n.08'), Synset('effigy.n.01'), Synset('image.v.01'), Synset('visualize.v.01')]\n"
     ]
    }
   ],
   "source": [
    "results = {}\n",
    "for word in data:\n",
    "    genus_1, genus_2 = get_more_frequent_genus(data[word])\n",
    "    target_genus_synset = get_farther_from_root_genus(wn.synsets(u.lemmatize_word(\n",
    "        genus_1[0], 'n')), wn.synsets(u.lemmatize_word(genus_2[0], 'n')))\n",
    "    print(target_genus_synset)\n",
    "    target_hyponyms_set = get_all_hyponyms(target_genus_synset)\n",
    "\n",
    "    similarity = 0\n",
    "    result_sim = 0\n",
    "\n",
    "    results[word] = {}\n",
    "    \n",
    "\n",
    "    for sense in target_hyponyms_set:\n",
    "        sense_definition = sense.definition()\n",
    "\n",
    "        prov_list = []\n",
    "\n",
    "        for definition in data[word]:\n",
    "            temp_similarity = compute_similarity(sense_definition, definition)\n",
    "            if (temp_similarity > 0 and temp_similarity < 1 and temp_similarity >= similarity):\n",
    "                if temp_similarity > similarity:\n",
    "                    prov_list.clear()\n",
    "                    similarity = temp_similarity\n",
    "                \n",
    "\n",
    "                temp_obj = {}\n",
    "\n",
    "                temp_obj[\"definition\"] = sense_definition\n",
    "                temp_obj[\"definition_prof\"] = definition\n",
    "                temp_obj[\"similarity\"] = temp_similarity\n",
    "\n",
    "                prov_list.append(temp_obj)\n",
    "                # print(prov_list)\n",
    "\n",
    "        if len(prov_list) > 0 and prov_list[0]['similarity'] >= result_sim:\n",
    "            if prov_list[0]['similarity'] > result_sim:\n",
    "                result_sim = prov_list[0]['similarity']\n",
    "                results[word].clear()\n",
    "                \n",
    "            results[word][sense] = prov_list\n"
   ]
  },
  {
   "cell_type": "markdown",
   "metadata": {},
   "source": [
    "### Stampa dei risultati"
   ]
  },
  {
   "cell_type": "code",
   "execution_count": 21,
   "metadata": {},
   "outputs": [
    {
     "name": "stdout",
     "output_type": "stream",
     "text": [
      "door\n",
      "----------------\n",
      "Synset('access.n.03') - a way of entering or leaving\n",
      "0.6666666666666666 / The way to let people enter or exit a room\n",
      "Synset('gateway.n.01') - an entrance that can be closed by a gate\n",
      "0.6666666666666666 / An object that opens or close the entrance of a room\n",
      "Synset('doorway.n.01') - the entrance (the space in a wall) through which you enter or leave a room or building; the space that a door can close\n",
      "0.6666666666666666 / A wall that can be opened and closed at will\n",
      "0.6666666666666666 / entance  to a building or room\n",
      "Synset('dutch_door.n.01') - an exterior door divided in two horizontally; either half can be closed or open independently\n",
      "0.6666666666666666 / It's an opening, it can be opened or closed.\n",
      "0.6666666666666666 / A wall that can be opened and closed at will\n",
      "\n",
      "ladybug\n",
      "----------------\n",
      "Synset('two-spotted_ladybug.n.01') - red ladybug with a black spot on each wing\n",
      "0.75 / A red insect with black spots\n",
      "\n",
      "pain\n",
      "----------------\n",
      "Synset('sensitivity.n.01') - (physiology) responsiveness to external stimuli; the faculty of sensation\n",
      "0.5 / sickening sensation\n",
      "0.5 / The sensation of being hurt\n",
      "Synset('somatosense.n.01') - any of the sensory systems that mediate sensations of pressure and tickle and warmth and cold and vibration and limb position and limb movement and pain\n",
      "0.5 / sickening sensation\n",
      "0.5 / The sensation of being hurt\n",
      "Synset('sensation.n.03') - a general feeling of excitement and heightened interest\n",
      "0.5 / very bad feeling\n",
      "Synset('threshold.n.02') - the smallest detectable sensation\n",
      "0.5 / sickening sensation\n",
      "0.5 / The sensation of being hurt\n",
      "Synset('taste.n.01') - the sensation that results when taste buds in the tongue and throat convey information about the chemical composition of a soluble stimulus\n",
      "0.5 / sickening sensation\n",
      "0.5 / The sensation of being hurt\n",
      "Synset('astringency.n.01') - a sharp astringent taste; the taste experience when a substance causes the mouth to pucker\n",
      "0.5 / a feeling that causes discomfort to those who experience it\n",
      "Synset('synesthesia.n.01') - a sensation that normally occurs in one sense modality occurs when another modality is stimulated\n",
      "0.5 / sickening sensation\n",
      "0.5 / The sensation of being hurt\n",
      "Synset('chromesthesia.n.01') - a form of synesthesia in which nonvisual stimulation results in the experience of color sensations\n",
      "0.5 / sickening sensation\n",
      "0.5 / The sensation of being hurt\n",
      "Synset('sound.n.02') - the subjective sensation of hearing something\n",
      "0.5 / Kind of physical or emotional sensation felt in response to something harmful or emotionally damaging.\n",
      "0.5 / sickening sensation\n",
      "0.5 / The sensation of being hurt\n",
      "Synset('smell.n.01') - the sensation that results when olfactory receptors in the nose are stimulated by particular chemicals in gaseous form\n",
      "0.5 / sickening sensation\n",
      "0.5 / The sensation of being hurt\n",
      "Synset('niff.n.01') - an unpleasant smell\n",
      "0.5 / an unpleasant burning sensation\n",
      "0.5 / unpleasant sensation resulting from physical or emotional exertion\n",
      "0.5 / unpleasant physical or emotional sensation\n",
      "0.5 / An unpleasant and harmful feeling\n",
      "0.5 / unpleasant emotion associated with suffering\n",
      "Synset('masking.n.02') - the blocking of one sensation resulting from the presence of another sensation\n",
      "0.5 / sickening sensation\n",
      "0.5 / The sensation of being hurt\n",
      "\n",
      "blurriness\n",
      "----------------\n",
      "Synset('trope.n.01') - language used in a figurative or nonliteral sense\n",
      "0.5 / a sense of confusion\n",
      "Synset('metalepsis.n.01') - substituting metonymy of one figurative sense for another\n",
      "0.5 / a sense of confusion\n",
      "Synset('synesthetic_metaphor.n.01') - a metaphor that exploits a similarity between experiences in different sense modalities\n",
      "0.5 / a sense of confusion\n",
      "Synset('dead_metaphor.n.01') - a metaphor that has occurred so often that it has become a new meaning of the expression (e.g., `he is a snake' may once have been a metaphor but after years of use it has died and become a new sense of the word `snake')\n",
      "0.5 / a sense of confusion\n",
      "Synset('photomontage.n.01') - a montage that uses photographic images\n",
      "0.5 / A specific condition that makes something less visible. Often used in photographic context when the subject is not in focus\n",
      "Synset('visual_image.n.01') - a mental image that is similar to a visual perception\n",
      "0.5 / a visual perception that confuses what you are looking at\n",
      "Synset('memory_picture.n.01') - a memory image that is similar to a visual perception\n",
      "0.5 / a visual perception that confuses what you are looking at\n",
      "\n"
     ]
    }
   ],
   "source": [
    "for word in results:\n",
    "    print(word)\n",
    "    print('----------------')\n",
    "    \n",
    "    for sense in results[word]:\n",
    "        print(sense, '-', sense.definition())\n",
    "        for tuple in results[word][sense]:\n",
    "            print(tuple['similarity']  , '/', tuple['definition_prof'])\n",
    "\n",
    "    print()"
   ]
  },
  {
   "cell_type": "markdown",
   "metadata": {},
   "source": [
    "### Calcolo lo score dell'intersezione dei due insiemi di tokens\n",
    "\n",
    "Utilizzo un dizionario è della forma: \n",
    "$$dict[token_i] = count(token_i) / count(all\\_tokens)$$\n",
    "per tenere traccia della frequenza del token in funzione del totale dei tokens, e poi sommo le frequenze dei token persenti nell'intersezione per ottenere uno score per l'intersezione"
   ]
  },
  {
   "cell_type": "code",
   "execution_count": 22,
   "metadata": {},
   "outputs": [],
   "source": [
    "def compute_intersection_score(definitions_union_tokens, definition_tokens, frequency_dict):\n",
    "\n",
    "    pt = 0\n",
    "\n",
    "    interc = set(definitions_union_tokens).intersection(set(definition_tokens))\n",
    "\n",
    "    for token in interc:\n",
    "        pt += frequency_dict[token]\n",
    "\n",
    "    return pt/len(definitions_union_tokens)\n"
   ]
  },
  {
   "cell_type": "markdown",
   "metadata": {},
   "source": [
    "### Versione che utilizza tutte le definizioni a disposizione\n"
   ]
  },
  {
   "cell_type": "code",
   "execution_count": 23,
   "metadata": {},
   "outputs": [],
   "source": [
    "results = {}\n",
    "for word in data:\n",
    "    genus_1, genus_2 = get_more_frequent_genus(data[word])\n",
    "    target_genus_synset = get_farther_from_root_genus(wn.synsets(u.lemmatize_word(\n",
    "        genus_1[0], 'n')), wn.synsets(u.lemmatize_word(genus_2[0], 'n')))\n",
    "    target_hyponyms_set = get_all_hyponyms(target_genus_synset)\n",
    "\n",
    "    results[word] = {}\n",
    "\n",
    "    tokenized_definition_union_list = []\n",
    "\n",
    "    for definition in data[word]:\n",
    "        tokenized_definition_union_list += u.noise_reduction_en(definition)\n",
    "\n",
    "    frequency_dict = dict(Counter(tokenized_definition_union_list))\n",
    "\n",
    "    for sense in target_hyponyms_set:\n",
    "        sense_definition = sense.definition()\n",
    "\n",
    "        results[word][sense] = compute_intersection_score(\n",
    "            tokenized_definition_union_list, u.noise_reduction_en(sense_definition), frequency_dict)\n",
    "    results[word] = sorted(results[word].items(),\n",
    "                           key=lambda x: x[1], reverse=True)\n"
   ]
  },
  {
   "cell_type": "markdown",
   "metadata": {},
   "source": [
    "### Stampa dei Risultati"
   ]
  },
  {
   "cell_type": "code",
   "execution_count": 24,
   "metadata": {},
   "outputs": [
    {
     "name": "stdout",
     "output_type": "stream",
     "text": [
      "door\n",
      "----------------\n",
      "(Synset('doorway.n.01'), 0.1956521739130435) - the entrance (the space in a wall) through which you enter or leave a room or building; the space that a door can close\n",
      "(Synset('dutch_door.n.01'), 0.10434782608695652) - an exterior door divided in two horizontally; either half can be closed or open independently\n",
      "(Synset('exterior_door.n.01'), 0.08260869565217391) - a doorway that allows entrance to or exit from a building\n",
      "(Synset('access.n.04'), 0.07391304347826087) - a code (a series of characters or digits) that must be entered in some way (typed or dialed or spoken) to get the use of something (a telephone line or a computer or a local area network etc.)\n",
      "(Synset('back_door.n.01'), 0.06521739130434782) - a secret or underhand means of access (to a place or a position)\n",
      "(Synset('entrance.n.01'), 0.06521739130434782) - something that provides access (to get in or get out)\n",
      "(Synset('back_door.n.02'), 0.06086956521739131) - an undocumented way to get access to a computer system or the data it contains\n",
      "(Synset('access.n.02'), 0.05652173913043478) - the right to obtain or make use of or take advantage of something (as services or membership)\n",
      "(Synset('stage_door.n.01'), 0.05217391304347826) - an entrance to the backstage area of theater; used by performers and other theater personnel\n",
      "(Synset('door.n.03'), 0.05217391304347826) - anything providing a means of access (or escape)\n",
      "\n",
      "ladybug\n",
      "----------------\n",
      "(Synset('buffalo_carpet_beetle.n.01'), 0.26785714285714285) - a small black and red and white carpet beetle\n",
      "(Synset('ladybug.n.01'), 0.26339285714285715) - small round bright-colored and spotted beetle that usually feeds on aphids and other insect pests\n",
      "(Synset('two-spotted_ladybug.n.01'), 0.23660714285714285) - red ladybug with a black spot on each wing\n",
      "(Synset('dipterous_insect.n.01'), 0.23214285714285715) - insects having usually a single pair of functional wings (anterior pair) with the posterior pair reduced to small knobbed structures and mouth parts adapted for sucking or lapping or piercing\n",
      "(Synset('cochineal_insect.n.01'), 0.22767857142857142) - Mexican red scale insect that feeds on cacti; the source of a red dye\n",
      "(Synset('ground_beetle.n.01'), 0.22767857142857142) - predacious shining black or metallic terrestrial beetle that destroys many injurious insects\n",
      "(Synset('scale_insect.n.01'), 0.22321428571428573) - small homopterous insect that usually lives and feeds on plants and secretes a protective waxy covering\n",
      "(Synset('red_admiral.n.01'), 0.21428571428571427) - of temperate Europe and Asia; having black wings with red and white markings\n",
      "(Synset('thrips.n.01'), 0.20982142857142858) - any of various small to minute sucking insects with narrow feathery wings if any; they feed on plant sap and many are destructive\n",
      "(Synset('gnat.n.01'), 0.20982142857142858) - any of various small biting flies: midges; biting midges; black flies; sand flies\n",
      "\n",
      "pain\n",
      "----------------\n",
      "(Synset('chromesthesia.n.01'), 0.08125) - a form of synesthesia in which nonvisual stimulation results in the experience of color sensations\n",
      "(Synset('sound.n.02'), 0.08125) - the subjective sensation of hearing something\n",
      "(Synset('somatosense.n.01'), 0.075) - any of the sensory systems that mediate sensations of pressure and tickle and warmth and cold and vibration and limb position and limb movement and pain\n",
      "(Synset('taste.n.01'), 0.075) - the sensation that results when taste buds in the tongue and throat convey information about the chemical composition of a soluble stimulus\n",
      "(Synset('smell.n.01'), 0.075) - the sensation that results when olfactory receptors in the nose are stimulated by particular chemicals in gaseous form\n",
      "(Synset('masking.n.02'), 0.075) - the blocking of one sensation resulting from the presence of another sensation\n",
      "(Synset('synesthesia.n.01'), 0.06875) - a sensation that normally occurs in one sense modality occurs when another modality is stimulated\n",
      "(Synset('sensitivity.n.01'), 0.0625) - (physiology) responsiveness to external stimuli; the faculty of sensation\n",
      "(Synset('threshold.n.02'), 0.0625) - the smallest detectable sensation\n",
      "(Synset('sensation.n.03'), 0.05625) - a general feeling of excitement and heightened interest\n",
      "\n",
      "blurriness\n",
      "----------------\n",
      "(Synset('memory_picture.n.01'), 0.07142857142857142) - a memory image that is similar to a visual perception\n",
      "(Synset('visual_image.n.01'), 0.06666666666666667) - a mental image that is similar to a visual perception\n",
      "(Synset('collage.n.01'), 0.06190476190476191) - a paste-up made by sticking together pieces of paper or photographs to form an artistic image\n",
      "(Synset('picture.n.01'), 0.05714285714285714) - a visual representation (of an object or scene or person or abstraction) produced on a surface\n",
      "(Synset('reflection.n.05'), 0.05238095238095238) - the image of something as reflected by a mirror (or other reflective material)\n",
      "(Synset('memory_image.n.01'), 0.05238095238095238) - a mental image of something previously experienced\n",
      "(Synset('photomontage.n.01'), 0.047619047619047616) - a montage that uses photographic images\n",
      "(Synset('mental_picture.n.01'), 0.047619047619047616) - a clear and telling mental image\n",
      "(Synset('sonogram.n.01'), 0.04285714285714286) - an image of a structure that is produced by ultrasonography (reflections of high-frequency sound waves); used to observe fetal growth or to study bodily organs\n",
      "(Synset('likeness.n.02'), 0.04285714285714286) - picture consisting of a graphic image of a person or thing\n",
      "\n"
     ]
    }
   ],
   "source": [
    "for word in results:\n",
    "    print(word)\n",
    "    print('----------------')\n",
    "    for i in range(0, 10):\n",
    "        print(results[word][i], '-', results[word][i][0].definition())\n",
    "\n",
    "    print()\n"
   ]
  }
 ],
 "metadata": {
  "kernelspec": {
   "display_name": "Python 3",
   "language": "python",
   "name": "python3"
  },
  "language_info": {
   "codemirror_mode": {
    "name": "ipython",
    "version": 3
   },
   "file_extension": ".py",
   "mimetype": "text/x-python",
   "name": "python",
   "nbconvert_exporter": "python",
   "pygments_lexer": "ipython3",
   "version": "3.12.1"
  },
  "orig_nbformat": 4
 },
 "nbformat": 4,
 "nbformat_minor": 2
}
